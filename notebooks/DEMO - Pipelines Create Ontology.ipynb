{
 "cells": [
  {
   "cell_type": "markdown",
   "metadata": {},
   "source": [
    "## Example process of running pipelines to create ontology"
   ]
  },
  {
   "cell_type": "code",
   "execution_count": 1,
   "metadata": {},
   "outputs": [],
   "source": [
    "from notebooks import *"
   ]
  },
  {
   "cell_type": "markdown",
   "metadata": {},
   "source": [
    "### Define parameters to run\n",
    "\n",
    "- `data_file`: Where we have the raw data file stored\n",
    "- `data_path`: Folder where we have the processed data stored\n",
    "- `domain` : Domain we want to create for the ontology\n",
    "- `ontology_name`: Name of the ontology\n",
    "- `ontology_path`: Folder where we have the generated ontology stored"
   ]
  },
  {
   "cell_type": "code",
   "execution_count": 2,
   "metadata": {},
   "outputs": [],
   "source": [
    "data_file = ''\n",
    "data_path = '../data/uscities'\n",
    "\n",
    "domain='http://bast.ai'\n",
    "ontology_name='us_city'\n",
    "ontology_path='../ontologies/us_city'"
   ]
  },
  {
   "cell_type": "markdown",
   "metadata": {},
   "source": [
    "### Make sure the folders are created"
   ]
  },
  {
   "cell_type": "code",
   "execution_count": null,
   "metadata": {},
   "outputs": [],
   "source": [
    "FileIO.exists_or_create(data_path)\n",
    "FileIO.exists_or_create(ontology_path)"
   ]
  },
  {
   "cell_type": "markdown",
   "metadata": {},
   "source": [
    "### Intialize creation of ontology"
   ]
  },
  {
   "cell_type": "code",
   "execution_count": null,
   "metadata": {},
   "outputs": [],
   "source": [
    "from bast_ai_buildowl.svc import InitializeOwl\n",
    "InitializeOwl(domain=domain,\n",
    "                owl_name=ontology_name,\n",
    "                output_path=ontology_path).run()"
   ]
  },
  {
   "cell_type": "code",
   "execution_count": 5,
   "metadata": {},
   "outputs": [],
   "source": [
    "def cleanse (input_str: str) -> str:\n",
    "    result = input_str\n",
    "    result = result.replace(\" \",\"_\")  \n",
    "    result = result.replace(\",\",\"_\")\n",
    "    result = result.replace(\"&\",\"_\")\n",
    "    result = result.replace(\"_and_\",\"_\")\n",
    "    result = result.replace(\"'\",\"_\")\n",
    "    result = result.replace('\"',\"_\")\n",
    "    result = result.replace(\"/\",\"_\")\n",
    "    while (\"__\" in result):\n",
    "        result = result.replace(\"__\",\"_\")\n",
    "    \n",
    "    return result"
   ]
  },
  {
   "cell_type": "code",
   "execution_count": 6,
   "metadata": {},
   "outputs": [],
   "source": [
    "def get_label (cleansed_str: str) -> str:\n",
    "    result = cleansed_str\n",
    "    result = result.replace(\"_\",\" \")\n",
    "    result = result.replace(\"-\",\" \")\n",
    "    result = TextUtils.title_case(result)\n",
    "    return result"
   ]
  },
  {
   "cell_type": "code",
   "execution_count": 7,
   "metadata": {},
   "outputs": [],
   "source": [
    "def get_synonyms (input_str: str,\n",
    "                  prefix_str: str = None) -> list:\n",
    "    result = list()\n",
    "    tokens = re.split(\"&|,| and \",input_str)\n",
    "    for token in tokens:\n",
    "        token = token.strip()\n",
    "        if (prefix_str):\n",
    "            result.append(prefix_str + \" \" + token)\n",
    "        else:\n",
    "            result.append(token)\n",
    "    if ( len(result) > 1):\n",
    "        return result\n",
    "    else: \n",
    "        return []"
   ]
  },
  {
   "cell_type": "markdown",
   "metadata": {},
   "source": [
    "### Prepare data files to put in ontology"
   ]
  },
  {
   "cell_type": "code",
   "execution_count": 8,
   "metadata": {},
   "outputs": [],
   "source": [
    "## Prepare States data\n",
    "\n",
    "source_file = f'{data_path}/uscities.csv'\n",
    "out_file = f'{data_path}/us_states.json'\n",
    "\n",
    "records = FileIO.read_lines(source_file)\n",
    "\n",
    "out_data = [    \n",
    "    {   \"entity\": \"us_state\",\n",
    "        \"label\": \"US State\",\n",
    "    }\n",
    "]\n",
    "\n",
    "states = dict()\n",
    "\n",
    "for r in records:\n",
    "\n",
    "    tokens = r.split(',')\n",
    "    state_id = tokens[2]\n",
    "    state_name = tokens[3]\n",
    "    city = tokens[0]\n",
    "    county = tokens[5]\n",
    "    county_id = tokens[4]\n",
    "\n",
    "    if state_id != 'state_id':\n",
    "        if state_id not in states:\n",
    "\n",
    "            cities = set()\n",
    "            cities.add(city)\n",
    "            \n",
    "            counties = {\n",
    "                county_id : {\n",
    "                    \"name\" : county,\n",
    "                    \"cities\" : cities\n",
    "                }\n",
    "            }\n",
    "\n",
    "            states[state_id] = {\n",
    "                'state_id': state_id,\n",
    "                'state_name': state_name,\n",
    "                'counties' : counties\n",
    "            }\n",
    "        else:\n",
    "\n",
    "            current_counties = states[state_id]['counties']\n",
    "\n",
    "            if ( county_id in current_counties):\n",
    "                current_counties = states[state_id]['counties'][county_id]['cities'].add(city)\n",
    "            else:\n",
    "                cities = set()\n",
    "                cities.add(city)\n",
    "                current_counties [county_id] =  {\n",
    "                    \"name\" : county,\n",
    "                    \"cities\" : cities\n",
    "                }\n",
    "\n",
    "for state_code in states:\n",
    "    out_data.append (\n",
    "        {\n",
    "            \"entity\": state_code,\n",
    "            \"parentEntity\": \"us_state\",\n",
    "            \"label\": states[state_code][\"state_name\"],\n",
    "        }\n",
    "    )\n",
    "\n",
    "    counties = states[state_code][\"counties\"]\n",
    "    for county_code in counties:\n",
    "        county_name = counties[county_code][\"name\"]\n",
    "        county_name_cleanse = cleanse(county_name)\n",
    "        out_data.append (\n",
    "            {\n",
    "                \"entity\": county_code,\n",
    "                \"parentEntity\": state_code,\n",
    "                \"label\": f\"{county_name} county\",\n",
    "            }\n",
    "        )\n",
    "\n",
    "        cities = county_name = counties[county_code][\"cities\"]\n",
    "\n",
    "        for city in cities:\n",
    "            city_cleanse = cleanse(city)\n",
    "            out_data.append (\n",
    "                    {\n",
    "                        \"entity\": city_cleanse,\n",
    "                        \"parentEntity\": county_code,\n",
    "                        \"label\": city,\n",
    "                    }\n",
    "                )\n",
    "\n",
    "FileIO.write_json (out_data, out_file)\n"
   ]
  },
  {
   "cell_type": "code",
   "execution_count": 9,
   "metadata": {},
   "outputs": [],
   "source": [
    "from bast_ai_buildowl.svc import AddEntities\n",
    "AddEntities(owl_path=f'{ontology_path}/{ontology_name}.owl').run(entities_file=out_file)\n"
   ]
  },
  {
   "cell_type": "code",
   "execution_count": null,
   "metadata": {},
   "outputs": [],
   "source": []
  }
 ],
 "metadata": {
  "kernelspec": {
   "display_name": "maryville-model-builder-Cd-AOlRa-py3.8",
   "language": "python",
   "name": "python3"
  },
  "language_info": {
   "codemirror_mode": {
    "name": "ipython",
    "version": 3
   },
   "file_extension": ".py",
   "mimetype": "text/x-python",
   "name": "python",
   "nbconvert_exporter": "python",
   "pygments_lexer": "ipython3",
   "version": "3.10.14"
  },
  "vscode": {
   "interpreter": {
    "hash": "7139000406a5aa8fd537c0eb78e5d3e017a1a7373d355ba3ee0c7892a53ff2f6"
   }
  }
 },
 "nbformat": 4,
 "nbformat_minor": 2
}
