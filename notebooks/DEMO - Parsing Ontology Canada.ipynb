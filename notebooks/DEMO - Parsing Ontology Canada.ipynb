{
 "cells": [
  {
   "cell_type": "markdown",
   "metadata": {},
   "source": [
    "## Example of parsing an ontology"
   ]
  },
  {
   "cell_type": "markdown",
   "metadata": {},
   "source": [
    "* To run this notebook, you can execute the entire file at once or run each cell individually.\n",
    "    * To run all cells in the notebook, select Run from the top menu bar and select \"Run All Cells\"\n",
    "    * Run each cell individually, by selecting the cell and click the run arrow/play icon at the top of this page."
   ]
  },
  {
   "cell_type": "code",
   "execution_count": 127,
   "metadata": {
    "tags": []
   },
   "outputs": [],
   "source": [
    "from notebooks import *\n",
    "import logging\n",
    "from pprint import pprint\n"
   ]
  },
  {
   "cell_type": "markdown",
   "metadata": {},
   "source": [
    "### Define parameters to run\n",
    "\n",
    "- `data_file`: Where we have the raw data file stored\n",
    "- `data_path`: Folder where we have the processed data stored\n",
    "- `domain` : Domain we want to create for the ontology\n",
    "- `ontology_name`: Name of the ontology\n",
    "- `ontology_path`: Folder where we have the generated ontology stored"
   ]
  },
  {
   "cell_type": "code",
   "execution_count": 128,
   "metadata": {
    "tags": []
   },
   "outputs": [],
   "source": [
    "data_folder = '../data'\n",
    "ontology_name='canada_city'\n",
    "ontology_path=f'../ontologies/canada_city'"
   ]
  },
  {
   "cell_type": "markdown",
   "metadata": {
    "tags": []
   },
   "source": [
    "### <font color='green'> Update the text string below with any free form text to be analyzed by the skills ontology. </font>"
   ]
  },
  {
   "cell_type": "code",
   "execution_count": 129,
   "metadata": {
    "tags": []
   },
   "outputs": [],
   "source": [
    "test_string = \"\"\"\n",
    "I love traveling to many provinces especially Alberta Beach, Alberta.#city name shows up with underscores\n",
    "I love traveling to many provinces especially toronto, Ontario.\n",
    "I love traveling to many provinces especially Ayer's Cliff, Quebec. #city name shows up with underscores\n",
    "I love traveling to many provinces especially Ayer’s Cliff, Quebec. #city name does not show up \n",
    "I love traveling to many provinces especially Baie-d’Urfé, Quebec. #city name does not show up\n",
    "I love traveling to many provinces especially Métabetchouan-Lac-à-la-Croix, Quebec. #city name does not show up\n",
    "\n",
    "\n",
    "\"\"\"\n",
    "#test cases"
   ]
  },
  {
   "cell_type": "markdown",
   "metadata": {},
   "source": [
    "### Process text to extract entities (skills)"
   ]
  },
  {
   "cell_type": "code",
   "execution_count": null,
   "metadata": {
    "collapsed": true,
    "jupyter": {
     "outputs_hidden": true
    },
    "tags": []
   },
   "outputs": [],
   "source": [
    "#iGenerator = getInferenceGenerator(ontology_name,ontology_path)\n",
    "#gGenerator = getGraphGenerator(ontology_name,ontology_path)\n",
    "entities = parse(ontology_name, ontology_path, test_string)"
   ]
  },
  {
   "cell_type": "markdown",
   "metadata": {
    "tags": []
   },
   "source": [
    "### <font color='green'>All entities (skills) extracted from the text (resume) are listed below</font>"
   ]
  },
  {
   "cell_type": "code",
   "execution_count": null,
   "metadata": {
    "tags": []
   },
   "outputs": [],
   "source": [
    "for e in entities:\n",
    "    print (e)"
   ]
  },
  {
   "cell_type": "markdown",
   "metadata": {},
   "source": [
    "### Identify infered skills based on proximity in onotology and generate a graph"
   ]
  },
  {
   "cell_type": "code",
   "execution_count": 132,
   "metadata": {
    "scrolled": true,
    "tags": []
   },
   "outputs": [],
   "source": [
    "# source_entities = entities\n",
    "\n",
    "# inferences_df = iGenerator.get_inferences(source_entities, 1)\n",
    "\n",
    "# pd.set_option('display.max_rows', None)\n",
    "# inferences_df"
   ]
  },
  {
   "cell_type": "code",
   "execution_count": 133,
   "metadata": {
    "tags": []
   },
   "outputs": [],
   "source": [
    "# graph = gGenerator.get_graph(inferences_df)\n",
    "\n",
    "# graph.show(f'{ontology_name}.html')"
   ]
  }
 ],
 "metadata": {
  "kernelspec": {
   "display_name": "Python 3 (ipykernel)",
   "language": "python",
   "name": "python3"
  },
  "language_info": {
   "codemirror_mode": {
    "name": "ipython",
    "version": 3
   },
   "file_extension": ".py",
   "mimetype": "text/x-python",
   "name": "python",
   "nbconvert_exporter": "python",
   "pygments_lexer": "ipython3",
   "version": "3.10.15"
  },
  "vscode": {
   "interpreter": {
    "hash": "7139000406a5aa8fd537c0eb78e5d3e017a1a7373d355ba3ee0c7892a53ff2f6"
   }
  }
 },
 "nbformat": 4,
 "nbformat_minor": 4
}
